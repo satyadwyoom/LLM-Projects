{
 "cells": [
  {
   "cell_type": "code",
   "execution_count": 1,
   "metadata": {},
   "outputs": [],
   "source": [
    "import os\n",
    "os.environ[\"OPENAI_API_KEY\"] = \"\""
   ]
  },
  {
   "cell_type": "code",
   "execution_count": 2,
   "metadata": {},
   "outputs": [],
   "source": [
    "from langchain_community.document_loaders import PyPDFLoader\n",
    "loader = PyPDFLoader(file_path=\"./Satyadwyoom_Kumar_CV.pdf\")\n",
    "data = loader.load()\n"
   ]
  },
  {
   "cell_type": "code",
   "execution_count": 6,
   "metadata": {},
   "outputs": [],
   "source": [
    "from langchain.text_splitter import RecursiveCharacterTextSplitter\n",
    "\n",
    "textsplitter = RecursiveCharacterTextSplitter(chunk_size=100, chunk_overlap=20)\n",
    "document = textsplitter.split_documents(data)"
   ]
  },
  {
   "cell_type": "code",
   "execution_count": 7,
   "metadata": {},
   "outputs": [],
   "source": [
    "from langchain_community.embeddings import OpenAIEmbeddings\n",
    "from langchain_community.vectorstores import Chroma\n",
    "\n",
    "db = Chroma.from_documents(document, OpenAIEmbeddings())"
   ]
  },
  {
   "cell_type": "code",
   "execution_count": 8,
   "metadata": {},
   "outputs": [
    {
     "data": {
      "text/plain": [
       "'Research Experience\\nUniversity of British Columbia, Canada Dec 2020 - Nov 2023'"
      ]
     },
     "execution_count": 8,
     "metadata": {},
     "output_type": "execute_result"
    }
   ],
   "source": [
    "query = \"work done at university of british columbia\"\n",
    "res = db.similarity_search(query)\n",
    "res[0].page_content"
   ]
  },
  {
   "cell_type": "code",
   "execution_count": 9,
   "metadata": {},
   "outputs": [],
   "source": [
    "from langchain_core.prompts import ChatPromptTemplate\n",
    "\n",
    "prompt = ChatPromptTemplate.from_template(\"\"\"\n",
    "Answer the following question based on the given context.\n",
    "<context>\n",
    "{context}\n",
    "</context>\n",
    "Question: {input}\n",
    "\"\"\")"
   ]
  },
  {
   "cell_type": "code",
   "execution_count": 10,
   "metadata": {},
   "outputs": [],
   "source": [
    "from langchain_openai import ChatOpenAI\n",
    "llm = ChatOpenAI(model=\"gpt-3.5-turbo\")"
   ]
  },
  {
   "cell_type": "code",
   "execution_count": 11,
   "metadata": {},
   "outputs": [],
   "source": [
    "from langchain.chains.combine_documents import create_stuff_documents_chain\n",
    "document_chain = create_stuff_documents_chain(llm, prompt)\n",
    "retriever = db.as_retriever()\n"
   ]
  },
  {
   "cell_type": "code",
   "execution_count": 12,
   "metadata": {},
   "outputs": [],
   "source": [
    "from langchain.chains import create_retrieval_chain\n",
    "ret_chain = create_retrieval_chain(retriever, document_chain)"
   ]
  },
  {
   "cell_type": "code",
   "execution_count": 22,
   "metadata": {},
   "outputs": [],
   "source": [
    "response = ret_chain.invoke({\"input\": \"Describe in detail each of his work at OYO\"})"
   ]
  },
  {
   "cell_type": "code",
   "execution_count": 23,
   "metadata": {},
   "outputs": [
    {
     "name": "stdout",
     "output_type": "stream",
     "text": [
      "At OYO Rooms, Satyadwyoom Kumar worked as a Senior Data Scientist with a focus on Dynamic Pricing, Stuck Classification, and Exploratory Data Analysis (EDA). His key responsibilities and achievements include:\n",
      "\n",
      "1. Engineered a statistical model for dynamic pricing: Satyadwyoom developed a statistical model for dynamic pricing, which resulted in a significant reduction in operational costs by $28,000 per month. This model likely involved analyzing market trends, competitor pricing, and customer behavior to optimize pricing strategies for maximum profitability.\n",
      "\n",
      "2. Developed a method for optimal pricing prediction: Satyadwyoom implemented a method that employed a cost/impact-based sorting algorithm on moving averages of accepted prices. This approach likely involved analyzing historical pricing data and customer responses to determine the optimal pricing strategy that maximizes revenue while minimizing overhead costs.\n",
      "\n",
      "3. Price bucketed escalations for optimal pricing: Additionally, Satyadwyoom implemented price bucketed escalations to predict optimal prices at minimal overhead cost. This likely involved segmenting customers based on their price sensitivity and preferences to create targeted pricing strategies that maximize revenue and customer satisfaction.\n",
      "\n",
      "In summary, Satyadwyoom's work at OYO Rooms as a Senior Data Scientist focused on developing and implementing advanced pricing strategies to optimize revenue, reduce operational costs, and improve overall business performance.\n"
     ]
    }
   ],
   "source": [
    "print(response['answer'])"
   ]
  },
  {
   "cell_type": "code",
   "execution_count": null,
   "metadata": {},
   "outputs": [],
   "source": []
  }
 ],
 "metadata": {
  "kernelspec": {
   "display_name": "Python 3",
   "language": "python",
   "name": "python3"
  },
  "language_info": {
   "codemirror_mode": {
    "name": "ipython",
    "version": 3
   },
   "file_extension": ".py",
   "mimetype": "text/x-python",
   "name": "python",
   "nbconvert_exporter": "python",
   "pygments_lexer": "ipython3",
   "version": "3.12.2"
  }
 },
 "nbformat": 4,
 "nbformat_minor": 2
}
