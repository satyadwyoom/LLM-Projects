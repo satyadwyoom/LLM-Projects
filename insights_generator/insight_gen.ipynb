{
 "cells": [
  {
   "cell_type": "code",
   "execution_count": 1,
   "metadata": {},
   "outputs": [],
   "source": [
    "import os\n",
    "os.environ[\"OPENAI_API_KEY\"] = \"\""
   ]
  },
  {
   "cell_type": "code",
   "execution_count": 9,
   "metadata": {},
   "outputs": [],
   "source": [
    "import pandas as pd\n",
    "from langchain_openai import ChatOpenAI\n",
    "from langchain.prompts import PromptTemplate\n",
    "from langchain.chains import LLMChain\n",
    "from langchain_core.output_parsers import StrOutputParser"
   ]
  },
  {
   "cell_type": "code",
   "execution_count": 3,
   "metadata": {},
   "outputs": [],
   "source": [
    "prompt = \"\"\"\n",
    "Given the following Tabular Data:\n",
    "\n",
    "{data_sample}\n",
    "\n",
    "Provide detailed analysis and insights based on data trends, anomalies and significant findings.\n",
    "\"\"\""
   ]
  },
  {
   "cell_type": "code",
   "execution_count": 4,
   "metadata": {},
   "outputs": [],
   "source": [
    "df = pd.read_csv('./mobile_dataset.csv')"
   ]
  },
  {
   "cell_type": "code",
   "execution_count": 5,
   "metadata": {},
   "outputs": [],
   "source": [
    "data_sample = df.sample(10).to_string(index=False)"
   ]
  },
  {
   "cell_type": "code",
   "execution_count": 12,
   "metadata": {},
   "outputs": [
    {
     "data": {
      "text/plain": [
       "'1. RAM and Price Range: There is a strong positive correlation between RAM and price range. As the RAM capacity increases, the price range also tends to increase. This indicates that higher RAM capacity smartphones are priced higher in the market.\\n\\n2. Camera Features: The number of front and rear cameras (fc and pc) does not show a clear trend with price range. However, there is a slight increase in price range with higher pixel resolution in the rear camera (px_height and px_width).\\n\\n3. Battery Power: There is no clear trend between battery power and price range. This suggests that battery power alone may not be a significant factor in determining the price of a smartphone.\\n\\n4. Internal Memory: There is a positive correlation between internal memory (int_memory) and price range. Higher internal memory capacity smartphones are priced higher.\\n\\n5. Display Size: The screen height (sc_h) and screen width (sc_w) do not show a strong correlation with price range. This indicates that display size may not be a significant factor in determining the price of a smartphone.\\n\\n6. Connectivity Features: Dual SIM (dual_sim), 4G (four_g), 3G (three_g), touch screen, and Wi-Fi have varying impacts on the price range. Smartphones with these features tend to have higher price ranges.\\n\\n7. Processor Speed: Clock speed (clock_speed) and number of cores (n_cores) show no clear trend with price range. This suggests that processor speed and number of cores may not be significant factors in determining the price of a smartphone.\\n\\n8. Weight and Thickness: Mobile weight (mobile_wt) and mobile depth (m_dep) do not show a clear trend with price range. This indicates that the physical dimensions of a smartphone may not be significant factors in determining its price.\\n\\n9. Talk Time: There is no clear trend between talk time and price range. This suggests that talk time may not be a significant factor in determining the price of a smartphone.\\n\\nOverall, the analysis shows that RAM capacity, internal memory, connectivity features, and camera resolution are important factors in determining the price range of smartphones. Other factors such as battery power, processor speed, and physical dimensions may not have a significant impact on pricing.'"
      ]
     },
     "execution_count": 12,
     "metadata": {},
     "output_type": "execute_result"
    }
   ],
   "source": [
    "# prompt_final = prompt.format(data_sample = data_sample)\n",
    "llm = ChatOpenAI(model=\"gpt-3.5-turbo\")\n",
    "# llm_chain = LLMChain(llm=llm, prompt=PromptTemplate(input_variables=[\"data_sample\"], template=prompt))\n",
    "\n",
    "prompt_f = PromptTemplate(input_variables=[\"data_sample\"], template=prompt)\n",
    "out_parser = StrOutputParser()\n",
    "chain = prompt_f|llm|out_parser\n",
    "\n",
    "chain.invoke({\"data_sample\":data_sample})\n",
    "# response = llm_chain.run(data_sample=data_sample)"
   ]
  },
  {
   "cell_type": "code",
   "execution_count": 14,
   "metadata": {},
   "outputs": [
    {
     "data": {
      "text/plain": [
       "'- The price range in the dataset ranges from 0 to 3, with 0 being the lowest price range and 3 being the highest.\\n- There seems to be a correlation between ram and price range, as higher ram values generally correspond to higher price ranges.\\n- Phones with higher battery power tend to have higher price ranges, indicating that battery power may be a key factor in determining pricing.\\n- Dual sim phones seem to have a slightly higher price range on average compared to phones without dual sim capabilities.\\n- Clock speed does not show a clear correlation with price range, as there are high price range phones with both low and high clock speeds.\\n- Phones with higher internal memory (int_memory) tend to have higher price ranges, suggesting that storage capacity is a factor in pricing.\\n- There are anomalies in the dataset, such as a phone with very low battery power (510) having a high price range (3), which may require further investigation.\\n- Phones with higher pixel height (px_height) and pixel width (px_width) tend to have higher price ranges, indicating that screen resolution may impact pricing.\\n- The presence of 4G and 3G connectivity does not show a clear correlation with price range, as there are phones in all price ranges with both types of connectivity.\\n- Touch screen phones seem to have a slightly higher price range on average compared to phones without touch screens.\\n- WiFi connectivity does not show a clear correlation with price range, as there are phones in all price ranges with and without WiFi.\\n- Overall, ram, battery power, internal memory, and screen resolution appear to be key factors influencing the price range of mobile phones in the dataset.'"
      ]
     },
     "execution_count": 14,
     "metadata": {},
     "output_type": "execute_result"
    }
   ],
   "source": [
    "import pandas as pd\n",
    "from langchain_openai import ChatOpenAI\n",
    "from langchain_core.output_parsers import StrOutputParser\n",
    "from langchain.prompts import PromptTemplate\n",
    "\n",
    "\n",
    "df = pd.read_csv(\"./mobile_dataset.csv\")\n",
    "target = \"price_range\"\n",
    "\n",
    "\n",
    "def generate_prompt(data_sample):\n",
    "    prompt = \"\"\"\n",
    "    Given the following Tabular Data:\n",
    "\n",
    "    {data_sample}\n",
    "\n",
    "    Provide detailed analysis and insights on {target_variable} based on other features, data trends, anomalies, and significant findings in bullet points.\n",
    "    \"\"\"\n",
    "\n",
    "    return PromptTemplate(input_variables=['data_sample', 'target_variable'], template=prompt)\n",
    "\n",
    "\n",
    "def generate_data_samples(df, num_samples=20):\n",
    "    if num_samples == \"all\":\n",
    "        num_samples = len(df)\n",
    "    else:\n",
    "        num_samples = int(num_samples)\n",
    "\n",
    "    data_sample = df.sample(num_samples).to_string(index=False)\n",
    "    return data_sample\n",
    "\n",
    "def generate_response():\n",
    "    data_samples = generate_data_samples(df)\n",
    "    prompt = generate_prompt(data_samples)\n",
    "    llm = ChatOpenAI(model=\"gpt-3.5-turbo\")\n",
    "    out_parser = StrOutputParser()\n",
    "    chain = prompt|llm|out_parser\n",
    "    response = chain.invoke({\"data_sample\":data_sample, \"target_variable\":target})\n",
    "    return response\n",
    "\n",
    "generate_response()"
   ]
  },
  {
   "cell_type": "code",
   "execution_count": null,
   "metadata": {},
   "outputs": [],
   "source": []
  }
 ],
 "metadata": {
  "kernelspec": {
   "display_name": "Python 3",
   "language": "python",
   "name": "python3"
  },
  "language_info": {
   "codemirror_mode": {
    "name": "ipython",
    "version": 3
   },
   "file_extension": ".py",
   "mimetype": "text/x-python",
   "name": "python",
   "nbconvert_exporter": "python",
   "pygments_lexer": "ipython3",
   "version": "3.12.2"
  }
 },
 "nbformat": 4,
 "nbformat_minor": 2
}
